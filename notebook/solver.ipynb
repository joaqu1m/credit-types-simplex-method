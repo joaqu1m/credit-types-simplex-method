{
 "cells": [
  {
   "cell_type": "code",
   "execution_count": 1,
   "metadata": {},
   "outputs": [],
   "source": [
    "%%capture\n",
    "%pip install pulp"
   ]
  },
  {
   "cell_type": "code",
   "execution_count": 2,
   "metadata": {},
   "outputs": [],
   "source": [
    "from pulp import *"
   ]
  },
  {
   "cell_type": "markdown",
   "metadata": {},
   "source": [
    "| Modalidade | Propostas Recebidas | Capital Necessário (Média por cliente) | Taxa de Juros (%) | Taxa de Inadimplência (%) |\n",
    "|------------|---------------------|----------------------------------------|-------------------|---------------------------|\n",
    "| Capital de Giro | 1400 | 18000 | 2.13 | 0.08 |\n",
    "| Cheque Especial | 600 | 10000 | 8.16 | 0.07 |\n",
    "| Crédito Pessoal | 1600 | 15000 | 6.43 | 0.05 |\n",
    "| Crédito Pessoal Consignado | 6000 | 12500 | 2.36 | 0.10 |\n",
    "| Financiamento Imobiliário | 3400 | 13425 | 0.81 | 0.15 |\n",
    "| Aquisição de Veículos | 3400 | 8500 | 1.86 | 0.23 |"
   ]
  },
  {
   "cell_type": "code",
   "execution_count": 3,
   "metadata": {},
   "outputs": [],
   "source": [
    "modelo = LpProblem('Maximizar_Lucro_Implementacao_Gradual', LpMaximize)\n",
    "\n",
    "x1 = LpVariable('Qnt_Clientes_Capital_de_Giro', lowBound=0)\n",
    "x2 = LpVariable('Qnt_Clientes_Cheque_Especial', lowBound=0)\n",
    "x3 = LpVariable('Qnt_Clientes_Crédito_Pessoal', lowBound=0)\n",
    "x4 = LpVariable('Qnt_Clientes_Crédito_Pessoal_Consignado', lowBound=0)\n",
    "x5 = LpVariable('Qnt_Clientes_Financiamento_Imobiliário', lowBound=0)\n",
    "x6 = LpVariable('Qnt_Clientes_Aquisição_de_Veículos', lowBound=0)"
   ]
  },
  {
   "cell_type": "markdown",
   "metadata": {},
   "source": [
    "### Objetivo (Maximização do Lucro gerado por cada Modalidade)"
   ]
  },
  {
   "cell_type": "markdown",
   "metadata": {},
   "source": [
    "Lucro do Cliente Individual = Taxas de Juros (%) * Capital Necessário Médio"
   ]
  },
  {
   "cell_type": "code",
   "execution_count": 4,
   "metadata": {},
   "outputs": [],
   "source": [
    "modelo +=\\\n",
    "\t(2.13 / 100 * 18_000 * x1) +\\\n",
    "\t(8.16 / 100 * 10_000 * x2) +\\\n",
    "\t(6.43 / 100 * 15_000 * x3) +\\\n",
    "\t(2.36 / 100 * 12_500 * x4) +\\\n",
    "\t(0.81 / 100 * 13_425 * x5) +\\\n",
    "\t(1.86 / 100 * 8_500 * x6), 'Lucro_Total'"
   ]
  },
  {
   "cell_type": "markdown",
   "metadata": {},
   "source": [
    "### Restrições do Modelo"
   ]
  },
  {
   "cell_type": "markdown",
   "metadata": {},
   "source": [
    "#### Restringindo por quantidade máxima de clientes"
   ]
  },
  {
   "cell_type": "code",
   "execution_count": 5,
   "metadata": {},
   "outputs": [],
   "source": [
    "MAXIMO_CLIENTES = 6000"
   ]
  },
  {
   "cell_type": "code",
   "execution_count": 6,
   "metadata": {},
   "outputs": [],
   "source": [
    "modelo += x1 + x2 + x3 + x4 + x5 + x6 <= MAXIMO_CLIENTES, 'Total_de_Clientes_Processados'"
   ]
  },
  {
   "cell_type": "markdown",
   "metadata": {},
   "source": [
    "#### Restringindo por total de número de clientes interessados"
   ]
  },
  {
   "cell_type": "code",
   "execution_count": 7,
   "metadata": {},
   "outputs": [],
   "source": [
    "for var in [\n",
    "\t(x1 <= 1400, 'Máximo de clientes para Capital de Giro'),\n",
    "\t(x2 <= 600, 'Máximo de clientes para Cheque Especial'),\n",
    "\t(x3 <= 1600, 'Máximo de clientes para Crédito Pessoal'),\n",
    "\t(x4 <= 6000, 'Máximo de clientes para Crédito Pessoal Consignado'),\n",
    "\t(x5 <= 3400, 'Máximo de clientes para Financiamento Imobiliário'),\n",
    "\t(x6 <= 3400, 'Máximo de clientes para Aquisição de Veículos'),\n",
    "]:\n",
    "\tmodelo += var"
   ]
  },
  {
   "cell_type": "markdown",
   "metadata": {},
   "source": [
    "#### Restringindo por total de capital disponível"
   ]
  },
  {
   "cell_type": "code",
   "execution_count": 8,
   "metadata": {},
   "outputs": [],
   "source": [
    "CAPITAL_MAXIMO = 125_000_000"
   ]
  },
  {
   "cell_type": "code",
   "execution_count": 9,
   "metadata": {},
   "outputs": [],
   "source": [
    "modelo +=\\\n",
    "\t18_000 * x1 +\\\n",
    "\t10_000 * x2 +\\\n",
    "\t15_000 * x3 +\\\n",
    "\t12_500 * x4 +\\\n",
    "\t13_425 * x5 +\\\n",
    "\t8_500 * x6 <= CAPITAL_MAXIMO, 'Capital_Total_Disponível'"
   ]
  },
  {
   "cell_type": "markdown",
   "metadata": {},
   "source": [
    "#### Restringindo por número mínimo de clientes que precisamos pegar de cada modalidade"
   ]
  },
  {
   "cell_type": "code",
   "execution_count": 10,
   "metadata": {},
   "outputs": [],
   "source": [
    "AMOSTRA_MINIMA_POSSIVEL = 400"
   ]
  },
  {
   "cell_type": "code",
   "execution_count": 11,
   "metadata": {},
   "outputs": [],
   "source": [
    "for var in [\n",
    "\t(x1 >= AMOSTRA_MINIMA_POSSIVEL, 'Mínimo de clientes de Capital de Giro'),\n",
    "\t(x2 >= AMOSTRA_MINIMA_POSSIVEL, 'Mínimo de clientes de Cheque Especial'),\n",
    "\t(x3 >= AMOSTRA_MINIMA_POSSIVEL, 'Mínimo de clientes de Crédito Pessoal'),\n",
    "\t(x4 >= AMOSTRA_MINIMA_POSSIVEL, 'Mínimo de clientes de Crédito Pessoal Consignado'),\n",
    "\t(x5 >= AMOSTRA_MINIMA_POSSIVEL, 'Mínimo de clientes de Financiamento Imobiliário'),\n",
    "\t(x6 >= AMOSTRA_MINIMA_POSSIVEL, 'Mínimo de clientes de Aquisição de Veículos'),\n",
    "]:\n",
    "\tmodelo += var"
   ]
  },
  {
   "cell_type": "markdown",
   "metadata": {},
   "source": [
    "### Visualização dos resultados"
   ]
  },
  {
   "cell_type": "code",
   "execution_count": 12,
   "metadata": {},
   "outputs": [
    {
     "data": {
      "text/plain": [
       "1"
      ]
     },
     "execution_count": 12,
     "metadata": {},
     "output_type": "execute_result"
    }
   ],
   "source": [
    "modelo.solve(PULP_CBC_CMD(msg=False))"
   ]
  },
  {
   "cell_type": "code",
   "execution_count": 13,
   "metadata": {},
   "outputs": [
    {
     "name": "stdout",
     "output_type": "stream",
     "text": [
      "Clientes de Capital de Giro (x1): 1400.0\n",
      "Clientes de Cheque Especial (x2): 600.0\n",
      "Clientes de Crédito Pessoal (x3): 1600.0\n",
      "Clientes de Crédito Pessoal Consignado (x4): 1600.0\n",
      "Clientes de Financiamento Imobiliário (x5): 400.0\n",
      "Clientes de Aquisição de Veículos (x6): 400.0\n"
     ]
    }
   ],
   "source": [
    "print(f\"Clientes de Capital de Giro (x1): {x1.varValue}\")\n",
    "print(f\"Clientes de Cheque Especial (x2): {x2.varValue}\")\n",
    "print(f\"Clientes de Crédito Pessoal (x3): {x3.varValue}\")\n",
    "print(f\"Clientes de Crédito Pessoal Consignado (x4): {x4.varValue}\")\n",
    "print(f\"Clientes de Financiamento Imobiliário (x5): {x5.varValue}\")\n",
    "print(f\"Clientes de Aquisição de Veículos (x6): {x6.varValue}\")"
   ]
  },
  {
   "cell_type": "code",
   "execution_count": 14,
   "metadata": {},
   "outputs": [
    {
     "data": {
      "text/plain": [
       "'Lucro Total: 3148297.0'"
      ]
     },
     "execution_count": 14,
     "metadata": {},
     "output_type": "execute_result"
    }
   ],
   "source": [
    "f\"Lucro Total: {modelo.objective.value()}\""
   ]
  }
 ],
 "metadata": {
  "kernelspec": {
   "display_name": "Python 3",
   "language": "python",
   "name": "python3"
  },
  "language_info": {
   "codemirror_mode": {
    "name": "ipython",
    "version": 3
   },
   "file_extension": ".py",
   "mimetype": "text/x-python",
   "name": "python",
   "nbconvert_exporter": "python",
   "pygments_lexer": "ipython3",
   "version": "3.12.7"
  }
 },
 "nbformat": 4,
 "nbformat_minor": 2
}
