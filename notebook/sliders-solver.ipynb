{
 "cells": [
  {
   "cell_type": "code",
   "execution_count": 1,
   "metadata": {},
   "outputs": [],
   "source": [
    "%%capture\n",
    "%pip install pulp ipywidgets"
   ]
  },
  {
   "cell_type": "code",
   "execution_count": 2,
   "metadata": {},
   "outputs": [],
   "source": [
    "from pulp import *\n",
    "import ipywidgets as widgets"
   ]
  },
  {
   "cell_type": "code",
   "execution_count": 3,
   "metadata": {},
   "outputs": [],
   "source": [
    "MAXIMO_CLIENTES = 6000\n",
    "CAPITAL_MAXIMO = 125_000_000\n",
    "AMOSTRA_MINIMA_POSSIVEL = 400"
   ]
  },
  {
   "cell_type": "code",
   "execution_count": 4,
   "metadata": {},
   "outputs": [],
   "source": [
    "def solve(x1A, x1B, x1C, x1D, x2A, x2B, x2C, x2D, x3A, x3B, x3C, x3D, x4A, x4B, x4C, x4D, x5A, x5B, x5C, x5D, x6A, x6B, x6C, x6D):\n",
    "\tmodelo = LpProblem('Maximizar_Lucro_Implementacao_Gradual', LpMaximize)\n",
    "\n",
    "\tx1 = LpVariable('Qnt_Clientes_Capital_de_Giro', lowBound=0)\n",
    "\tx2 = LpVariable('Qnt_Clientes_Cheque_Especial', lowBound=0)\n",
    "\tx3 = LpVariable('Qnt_Clientes_Crédito_Pessoal', lowBound=0)\n",
    "\tx4 = LpVariable('Qnt_Clientes_Crédito_Pessoal_Consignado', lowBound=0)\n",
    "\tx5 = LpVariable('Qnt_Clientes_Financiamento_Imobiliário', lowBound=0)\n",
    "\tx6 = LpVariable('Qnt_Clientes_Aquisição_de_Veículos', lowBound=0)\n",
    "\n",
    "\tmodelo +=\\\n",
    "\t\t(x1C / 100 * x1B * x1) +\\\n",
    "\t\t(x2C / 100 * x2B * x2) +\\\n",
    "\t\t(x3C / 100 * x3B * x3) +\\\n",
    "\t\t(x4C / 100 * x4B * x4) +\\\n",
    "\t\t(x5C / 100 * x5B * x5) +\\\n",
    "\t\t(x6C / 100 * x6B * x6), 'Lucro_Total'\n",
    "\n",
    "\tmodelo += x1 + x2 + x3 + x4 + x5 + x6 <= MAXIMO_CLIENTES, 'Total_de_Clientes_Processados'\n",
    "\n",
    "\tfor var in [\n",
    "\t\t(x1 <= x1A, 'Máximo de clientes para Capital de Giro'),\n",
    "\t\t(x2 <= x2A, 'Máximo de clientes para Cheque Especial'),\n",
    "\t\t(x3 <= x3A, 'Máximo de clientes para Crédito Pessoal'),\n",
    "\t\t(x4 <= x4A, 'Máximo de clientes para Crédito Pessoal Consignado'),\n",
    "\t\t(x5 <= x5A, 'Máximo de clientes para Financiamento Imobiliário'),\n",
    "\t\t(x6 <= x6A, 'Máximo de clientes para Aquisição de Veículos'),\n",
    "\t]:\n",
    "\t\tmodelo += var\n",
    "\n",
    "\tmodelo +=\\\n",
    "\t\tx1B * x1 +\\\n",
    "\t\tx2B * x2 +\\\n",
    "\t\tx3B * x3 +\\\n",
    "\t\tx4B * x4 +\\\n",
    "\t\tx5B * x5 +\\\n",
    "\t\tx6B * x6 <= CAPITAL_MAXIMO, 'Capital_Total_Disponível'\n",
    "\n",
    "\tfor var in [\n",
    "\t\t(x1 >= AMOSTRA_MINIMA_POSSIVEL, 'Mínimo de clientes de Capital de Giro'),\n",
    "\t\t(x2 >= AMOSTRA_MINIMA_POSSIVEL, 'Mínimo de clientes de Cheque Especial'),\n",
    "\t\t(x3 >= AMOSTRA_MINIMA_POSSIVEL, 'Mínimo de clientes de Crédito Pessoal'),\n",
    "\t\t(x4 >= AMOSTRA_MINIMA_POSSIVEL, 'Mínimo de clientes de Crédito Pessoal Consignado'),\n",
    "\t\t(x5 >= AMOSTRA_MINIMA_POSSIVEL, 'Mínimo de clientes de Financiamento Imobiliário'),\n",
    "\t\t(x6 >= AMOSTRA_MINIMA_POSSIVEL, 'Mínimo de clientes de Aquisição de Veículos'),\n",
    "\t]:\n",
    "\t\tmodelo += var\n",
    "\n",
    "\tmodelo.solve(PULP_CBC_CMD(msg=False))\n",
    "\n",
    "\tprint(f\"Clientes de Capital de Giro (x1): {x1.varValue}\")\n",
    "\tprint(f\"Clientes de Cheque Especial (x2): {x2.varValue}\")\n",
    "\tprint(f\"Clientes de Crédito Pessoal (x3): {x3.varValue}\")\n",
    "\tprint(f\"Clientes de Crédito Pessoal Consignado (x4): {x4.varValue}\")\n",
    "\tprint(f\"Clientes de Financiamento Imobiliário (x5): {x5.varValue}\")\n",
    "\tprint(f\"Clientes de Aquisição de Veículos (x6): {x6.varValue}\")\n",
    "\n",
    "\tprint(f\"Lucro Total: {modelo.objective.value()}\")"
   ]
  },
  {
   "cell_type": "markdown",
   "metadata": {},
   "source": [
    "| Modalidade | Propostas Recebidas | Capital Necessário (Média por cliente) | Taxa de Juros (%) | Taxa de Inadimplência (%) |\n",
    "|------------|---------------------|----------------------------------------|-------------------|---------------------------|\n",
    "| Capital de Giro | 1400 | 18000 | 2.13 | 0.08 |\n",
    "| Cheque Especial | 600 | 10000 | 8.16 | 0.07 |\n",
    "| Crédito Pessoal | 1600 | 15000 | 6.43 | 0.05 |\n",
    "| Crédito Pessoal Consignado | 6000 | 12500 | 2.36 | 0.10 |\n",
    "| Financiamento Imobiliário | 3400 | 13425 | 0.81 | 0.15 |\n",
    "| Aquisição de Veículos | 3400 | 8500 | 1.86 | 0.23 |"
   ]
  },
  {
   "cell_type": "code",
   "execution_count": 5,
   "metadata": {},
   "outputs": [
    {
     "data": {
      "application/vnd.jupyter.widget-view+json": {
       "model_id": "c5f1a38762884e89a8eac101aebded3c",
       "version_major": 2,
       "version_minor": 0
      },
      "text/plain": [
       "interactive(children=(IntSlider(value=1400, description='x1 PR', max=6000, min=400, step=100), IntSlider(value…"
      ]
     },
     "execution_count": 5,
     "metadata": {},
     "output_type": "execute_result"
    }
   ],
   "source": [
    "x1A = widgets.IntSlider(value=1400, min=AMOSTRA_MINIMA_POSSIVEL, max=MAXIMO_CLIENTES, step=100, description='x1 PR')\n",
    "x1B = widgets.IntSlider(value=18000, min=8000, max=30000, step=100, description='x1 CN')\n",
    "x1C = widgets.FloatSlider(value=2.13, min=0.2, max=10, step=0.01, description='x1 (%) a.m.')\n",
    "x1D = widgets.FloatSlider(value=0.08, min=0, max=2, step=0.01, description='x1 Inad (%)')\n",
    "\n",
    "x2A = widgets.IntSlider(value=600, min=AMOSTRA_MINIMA_POSSIVEL, max=MAXIMO_CLIENTES, step=100, description='x2 PR')\n",
    "x2B = widgets.IntSlider(value=10000, min=8000, max=CAPITAL_MAXIMO/6, step=100, description='x2 CN')\n",
    "x2C = widgets.FloatSlider(value=8.16, min=0.2, max=10, step=0.01, description='x2 (%) a.m.')\n",
    "x2D = widgets.FloatSlider(value=0.07, min=0, max=2, step=0.01, description='x2 Inad (%)')\n",
    "\n",
    "x3A = widgets.IntSlider(value=1600, min=AMOSTRA_MINIMA_POSSIVEL, max=MAXIMO_CLIENTES, step=100, description='x3 PR')\n",
    "x3B = widgets.IntSlider(value=15000, min=8000, max=30000, step=100, description='x3 CN')\n",
    "x3C = widgets.FloatSlider(value=6.43, min=0.2, max=10, step=0.01, description='x3 (%) a.m.')\n",
    "x3D = widgets.FloatSlider(value=0.05, min=0, max=2, step=0.01, description='x3 Inad (%)')\n",
    "\n",
    "x4A = widgets.IntSlider(value=6000, min=AMOSTRA_MINIMA_POSSIVEL, max=MAXIMO_CLIENTES, step=100, description='x4 PR')\n",
    "x4B = widgets.IntSlider(value=12500, min=8000, max=30000, step=100, description='x4 CN')\n",
    "x4C = widgets.FloatSlider(value=2.36, min=0.2, max=10, step=0.01, description='x4 (%) a.m.')\n",
    "x4D = widgets.FloatSlider(value=0.10, min=0, max=2, step=0.01, description='x4 Inad (%)')\n",
    "\n",
    "x5A = widgets.IntSlider(value=3400, min=AMOSTRA_MINIMA_POSSIVEL, max=MAXIMO_CLIENTES, step=100, description='x5 PR')\n",
    "x5B = widgets.IntSlider(value=13425, min=8000, max=30000, step=100, description='x5 CN')\n",
    "x5C = widgets.FloatSlider(value=0.81, min=0.2, max=10, step=0.01, description='x5 (%) a.m.')\n",
    "x5D = widgets.FloatSlider(value=0.15, min=0, max=2, step=0.01, description='x5 Inad (%)')\n",
    "\n",
    "x6A = widgets.IntSlider(value=3400, min=AMOSTRA_MINIMA_POSSIVEL, max=MAXIMO_CLIENTES, step=100, description='x6 PR')\n",
    "x6B = widgets.IntSlider(value=8500, min=8000, max=30000, step=100, description='x6 CN')\n",
    "x6C = widgets.FloatSlider(value=1.86, min=0.2, max=10, step=0.01, description='x6 (%) a.m.')\n",
    "x6D = widgets.FloatSlider(value=0.23, min=0, max=2, step=0.01, description='x6 Inad (%)')\n",
    "\n",
    "def compute(x1A, x1B, x1C, x1D, x2A, x2B, x2C, x2D, x3A, x3B, x3C, x3D, x4A, x4B, x4C, x4D, x5A, x5B, x5C, x5D, x6A, x6B, x6C, x6D):\n",
    "    try:\n",
    "        solve(x1A, x1B, x1C, x1D, x2A, x2B, x2C, x2D, x3A, x3B, x3C, x3D, x4A, x4B, x4C, x4D, x5A, x5B, x5C, x5D, x6A, x6B, x6C, x6D)\n",
    "    except:\n",
    "        pass\n",
    "\n",
    "widgets.interactive(\n",
    "    compute,\n",
    "    x1A=x1A,\n",
    "    x1B=x1B,\n",
    "    x1C=x1C,\n",
    "\tx1D=x1D,\n",
    "\tx2A=x2A,\n",
    "\tx2B=x2B,\n",
    "\tx2C=x2C,\n",
    "\tx2D=x2D,\n",
    "\tx3A=x3A,\n",
    "\tx3B=x3B,\n",
    "\tx3C=x3C,\n",
    "\tx3D=x3D,\n",
    "\tx4A=x4A,\n",
    "\tx4B=x4B,\n",
    "\tx4C=x4C,\n",
    "\tx4D=x4D,\n",
    "\tx5A=x5A,\n",
    "\tx5B=x5B,\n",
    "\tx5C=x5C,\n",
    "\tx5D=x5D,\n",
    "\tx6A=x6A,\n",
    "\tx6B=x6B,\n",
    "\tx6C=x6C,\n",
    "\tx6D=x6D,\n",
    ")"
   ]
  }
 ],
 "metadata": {
  "kernelspec": {
   "display_name": "Python 3",
   "language": "python",
   "name": "python3"
  },
  "language_info": {
   "codemirror_mode": {
    "name": "ipython",
    "version": 3
   },
   "file_extension": ".py",
   "mimetype": "text/x-python",
   "name": "python",
   "nbconvert_exporter": "python",
   "pygments_lexer": "ipython3",
   "version": "3.12.7"
  }
 },
 "nbformat": 4,
 "nbformat_minor": 2
}
